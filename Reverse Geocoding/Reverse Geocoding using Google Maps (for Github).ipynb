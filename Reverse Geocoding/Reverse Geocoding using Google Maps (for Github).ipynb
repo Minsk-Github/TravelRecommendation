{
 "cells": [
  {
   "cell_type": "code",
   "execution_count": null,
   "id": "2af42853",
   "metadata": {},
   "outputs": [],
   "source": [
    "pip install -U googlemaps\n",
    "\n",
    "import googlemaps\n",
    "import pandas as pd\n",
    "\n",
    "df=pd.read_csv(r'C:\\Users\\minsk\\20min_threshold.csv')\n",
    "df.head()\n",
    "\n",
    "df[\"geom\"] = df[\"lat\"].map(str)+','+df[\"lng\"].map(str)\n",
    "df[\"geom\"][0]\n",
    "\n",
    "gmaps = googlemaps.Client(key='PUT YOUR API KEY HERE')\n",
    "\n",
    "for i in range(0,19503):\n",
    "    reverse_geocode_result=gmaps.reverse_geocode((df[\"geom\"][i]), language='en')\n",
    "    result=reverse_geocode_result[0]['formatted_address']\n",
    "    print(result)\n",
    "\n",
    "for i in range(0,19503):\n",
    "    reverse_geocode_result=gmaps.reverse_geocode((df[\"geom\"][i]), language='en')\n",
    "    result=reverse_geocode_result[0]\n",
    "    print(result['types'])\n",
    "    \n",
    "types_result=gmaps.places(location=(37.54794204380073, 127.07460710236217),type=\"restaurant\")\n",
    "print(types_result)\n",
    "\n",
    "import googlemaps\n",
    "import pandas as pd\n",
    "\n",
    "df=pd.read_csv(r'C:\\Users\\minsk\\5min_threshold.csv')\n",
    "df.head()\n",
    "\n",
    "df[\"geom\"] = df[\"lat\"].map(str)+','+df[\"lng\"].map(str)\n",
    "df[\"geom\"][0]\n",
    "\n",
    "df[\"address\"]=''\n",
    "df[\"types\"]=''\n",
    "\n",
    "for i in range(0,50727):\n",
    "    reverse_geocode_result=gmaps.reverse_geocode((df[\"geom\"][i]), language='en')\n",
    "    result=reverse_geocode_result[0]['formatted_address']\n",
    "    df['address'][i]=result\n",
    "    print(result)\n",
    "\n",
    "df.to_csv('5min_reverse.csv')\n",
    "\n",
    "for i in range(0,50727):\n",
    "    reverse_geocode_result=gmaps.reverse_geocode((df[\"geom\"][i]), language='en')\n",
    "    result=reverse_geocode_result[0]['types']\n",
    "    df['types'][i]=result\n",
    "    print(result)\n",
    "\n",
    "df.to_csv('5min_types.csv')"
   ]
  }
 ],
 "metadata": {
  "kernelspec": {
   "display_name": "Python 3 (ipykernel)",
   "language": "python",
   "name": "python3"
  },
  "language_info": {
   "codemirror_mode": {
    "name": "ipython",
    "version": 3
   },
   "file_extension": ".py",
   "mimetype": "text/x-python",
   "name": "python",
   "nbconvert_exporter": "python",
   "pygments_lexer": "ipython3",
   "version": "3.9.7"
  }
 },
 "nbformat": 4,
 "nbformat_minor": 5
}
